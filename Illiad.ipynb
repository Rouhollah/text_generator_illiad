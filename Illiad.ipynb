{
  "nbformat": 4,
  "nbformat_minor": 0,
  "metadata": {
    "colab": {
      "provenance": [],
      "gpuType": "T4",
      "authorship_tag": "ABX9TyNbgOPG3+bIp0YNS+5usJfi",
      "include_colab_link": true
    },
    "kernelspec": {
      "name": "python3",
      "display_name": "Python 3"
    },
    "language_info": {
      "name": "python"
    },
    "accelerator": "GPU"
  },
  "cells": [
    {
      "cell_type": "markdown",
      "metadata": {
        "id": "view-in-github",
        "colab_type": "text"
      },
      "source": [
        "<a href=\"https://colab.research.google.com/github/Rouhollah/text_generator_illiad/blob/main/Illiad.ipynb\" target=\"_parent\"><img src=\"https://colab.research.google.com/assets/colab-badge.svg\" alt=\"Open In Colab\"/></a>"
      ]
    },
    {
      "cell_type": "code",
      "execution_count": 1,
      "metadata": {
        "colab": {
          "base_uri": "https://localhost:8080/"
        },
        "id": "bdMp3WKeiT_k",
        "outputId": "4bb861f0-2b56-4188-df34-0222f17ee1a4"
      },
      "outputs": [
        {
          "output_type": "stream",
          "name": "stdout",
          "text": [
            "Found GPU at: /device:GPU:0\n",
            "TensorFlow version:  2.12.0\n"
          ]
        }
      ],
      "source": [
        "from __future__ import absolute_import, division, print_function, unicode_literals\n",
        "import tensorflow as tf\n",
        "import numpy as np\n",
        "import os\n",
        "import datetime\n",
        "device_name = tf.test.gpu_device_name()\n",
        "if device_name != '/device:GPU:0':\n",
        "  raise SystemError('GPU device not found')\n",
        "print('Found GPU at: {}'.format(device_name))\n",
        "print(\"TensorFlow version: \", tf.__version__)"
      ]
    },
    {
      "cell_type": "code",
      "source": [
        "from google.colab import files\n",
        "uploaded = files.upload()\n",
        "for fn in uploaded.keys():\n",
        "  print('User uploaded file \"{name}\" with length {length}    bytes'.format(name=fn, length=len(uploaded[fn])))"
      ],
      "metadata": {
        "colab": {
          "base_uri": "https://localhost:8080/",
          "height": 90
        },
        "id": "vRM-JYMvkK6I",
        "outputId": "f5b716e3-d505-420e-c9cc-7c0869185cc2"
      },
      "execution_count": 4,
      "outputs": [
        {
          "output_type": "display_data",
          "data": {
            "text/plain": [
              "<IPython.core.display.HTML object>"
            ],
            "text/html": [
              "\n",
              "     <input type=\"file\" id=\"files-42e1f620-bebb-4209-a642-f8b6d6fb2e0e\" name=\"files[]\" multiple disabled\n",
              "        style=\"border:none\" />\n",
              "     <output id=\"result-42e1f620-bebb-4209-a642-f8b6d6fb2e0e\">\n",
              "      Upload widget is only available when the cell has been executed in the\n",
              "      current browser session. Please rerun this cell to enable.\n",
              "      </output>\n",
              "      <script>// Copyright 2017 Google LLC\n",
              "//\n",
              "// Licensed under the Apache License, Version 2.0 (the \"License\");\n",
              "// you may not use this file except in compliance with the License.\n",
              "// You may obtain a copy of the License at\n",
              "//\n",
              "//      http://www.apache.org/licenses/LICENSE-2.0\n",
              "//\n",
              "// Unless required by applicable law or agreed to in writing, software\n",
              "// distributed under the License is distributed on an \"AS IS\" BASIS,\n",
              "// WITHOUT WARRANTIES OR CONDITIONS OF ANY KIND, either express or implied.\n",
              "// See the License for the specific language governing permissions and\n",
              "// limitations under the License.\n",
              "\n",
              "/**\n",
              " * @fileoverview Helpers for google.colab Python module.\n",
              " */\n",
              "(function(scope) {\n",
              "function span(text, styleAttributes = {}) {\n",
              "  const element = document.createElement('span');\n",
              "  element.textContent = text;\n",
              "  for (const key of Object.keys(styleAttributes)) {\n",
              "    element.style[key] = styleAttributes[key];\n",
              "  }\n",
              "  return element;\n",
              "}\n",
              "\n",
              "// Max number of bytes which will be uploaded at a time.\n",
              "const MAX_PAYLOAD_SIZE = 100 * 1024;\n",
              "\n",
              "function _uploadFiles(inputId, outputId) {\n",
              "  const steps = uploadFilesStep(inputId, outputId);\n",
              "  const outputElement = document.getElementById(outputId);\n",
              "  // Cache steps on the outputElement to make it available for the next call\n",
              "  // to uploadFilesContinue from Python.\n",
              "  outputElement.steps = steps;\n",
              "\n",
              "  return _uploadFilesContinue(outputId);\n",
              "}\n",
              "\n",
              "// This is roughly an async generator (not supported in the browser yet),\n",
              "// where there are multiple asynchronous steps and the Python side is going\n",
              "// to poll for completion of each step.\n",
              "// This uses a Promise to block the python side on completion of each step,\n",
              "// then passes the result of the previous step as the input to the next step.\n",
              "function _uploadFilesContinue(outputId) {\n",
              "  const outputElement = document.getElementById(outputId);\n",
              "  const steps = outputElement.steps;\n",
              "\n",
              "  const next = steps.next(outputElement.lastPromiseValue);\n",
              "  return Promise.resolve(next.value.promise).then((value) => {\n",
              "    // Cache the last promise value to make it available to the next\n",
              "    // step of the generator.\n",
              "    outputElement.lastPromiseValue = value;\n",
              "    return next.value.response;\n",
              "  });\n",
              "}\n",
              "\n",
              "/**\n",
              " * Generator function which is called between each async step of the upload\n",
              " * process.\n",
              " * @param {string} inputId Element ID of the input file picker element.\n",
              " * @param {string} outputId Element ID of the output display.\n",
              " * @return {!Iterable<!Object>} Iterable of next steps.\n",
              " */\n",
              "function* uploadFilesStep(inputId, outputId) {\n",
              "  const inputElement = document.getElementById(inputId);\n",
              "  inputElement.disabled = false;\n",
              "\n",
              "  const outputElement = document.getElementById(outputId);\n",
              "  outputElement.innerHTML = '';\n",
              "\n",
              "  const pickedPromise = new Promise((resolve) => {\n",
              "    inputElement.addEventListener('change', (e) => {\n",
              "      resolve(e.target.files);\n",
              "    });\n",
              "  });\n",
              "\n",
              "  const cancel = document.createElement('button');\n",
              "  inputElement.parentElement.appendChild(cancel);\n",
              "  cancel.textContent = 'Cancel upload';\n",
              "  const cancelPromise = new Promise((resolve) => {\n",
              "    cancel.onclick = () => {\n",
              "      resolve(null);\n",
              "    };\n",
              "  });\n",
              "\n",
              "  // Wait for the user to pick the files.\n",
              "  const files = yield {\n",
              "    promise: Promise.race([pickedPromise, cancelPromise]),\n",
              "    response: {\n",
              "      action: 'starting',\n",
              "    }\n",
              "  };\n",
              "\n",
              "  cancel.remove();\n",
              "\n",
              "  // Disable the input element since further picks are not allowed.\n",
              "  inputElement.disabled = true;\n",
              "\n",
              "  if (!files) {\n",
              "    return {\n",
              "      response: {\n",
              "        action: 'complete',\n",
              "      }\n",
              "    };\n",
              "  }\n",
              "\n",
              "  for (const file of files) {\n",
              "    const li = document.createElement('li');\n",
              "    li.append(span(file.name, {fontWeight: 'bold'}));\n",
              "    li.append(span(\n",
              "        `(${file.type || 'n/a'}) - ${file.size} bytes, ` +\n",
              "        `last modified: ${\n",
              "            file.lastModifiedDate ? file.lastModifiedDate.toLocaleDateString() :\n",
              "                                    'n/a'} - `));\n",
              "    const percent = span('0% done');\n",
              "    li.appendChild(percent);\n",
              "\n",
              "    outputElement.appendChild(li);\n",
              "\n",
              "    const fileDataPromise = new Promise((resolve) => {\n",
              "      const reader = new FileReader();\n",
              "      reader.onload = (e) => {\n",
              "        resolve(e.target.result);\n",
              "      };\n",
              "      reader.readAsArrayBuffer(file);\n",
              "    });\n",
              "    // Wait for the data to be ready.\n",
              "    let fileData = yield {\n",
              "      promise: fileDataPromise,\n",
              "      response: {\n",
              "        action: 'continue',\n",
              "      }\n",
              "    };\n",
              "\n",
              "    // Use a chunked sending to avoid message size limits. See b/62115660.\n",
              "    let position = 0;\n",
              "    do {\n",
              "      const length = Math.min(fileData.byteLength - position, MAX_PAYLOAD_SIZE);\n",
              "      const chunk = new Uint8Array(fileData, position, length);\n",
              "      position += length;\n",
              "\n",
              "      const base64 = btoa(String.fromCharCode.apply(null, chunk));\n",
              "      yield {\n",
              "        response: {\n",
              "          action: 'append',\n",
              "          file: file.name,\n",
              "          data: base64,\n",
              "        },\n",
              "      };\n",
              "\n",
              "      let percentDone = fileData.byteLength === 0 ?\n",
              "          100 :\n",
              "          Math.round((position / fileData.byteLength) * 100);\n",
              "      percent.textContent = `${percentDone}% done`;\n",
              "\n",
              "    } while (position < fileData.byteLength);\n",
              "  }\n",
              "\n",
              "  // All done.\n",
              "  yield {\n",
              "    response: {\n",
              "      action: 'complete',\n",
              "    }\n",
              "  };\n",
              "}\n",
              "\n",
              "scope.google = scope.google || {};\n",
              "scope.google.colab = scope.google.colab || {};\n",
              "scope.google.colab._files = {\n",
              "  _uploadFiles,\n",
              "  _uploadFilesContinue,\n",
              "};\n",
              "})(self);\n",
              "</script> "
            ]
          },
          "metadata": {}
        },
        {
          "output_type": "stream",
          "name": "stdout",
          "text": [
            "Saving Iliad_v3.txt to Iliad_v3.txt\n",
            "User uploaded file \"Iliad_v3.txt\" with length 886809    bytes\n"
          ]
        }
      ]
    },
    {
      "cell_type": "code",
      "source": [
        "import os\n",
        "path = os.getcwd()\n",
        "text = open(path + '/Iliad_v3.txt',  'rb').read().decode(encoding='utf-8')\n",
        "print(\"Text is {} characters long\".format(len(text)))"
      ],
      "metadata": {
        "colab": {
          "base_uri": "https://localhost:8080/"
        },
        "id": "z7GyKqwBvyg0",
        "outputId": "17ec3d59-afb8-4ca6-c6ae-b82db72a8227"
      },
      "execution_count": 5,
      "outputs": [
        {
          "output_type": "stream",
          "name": "stdout",
          "text": [
            "Text is 886809 characters long\n"
          ]
        }
      ]
    },
    {
      "cell_type": "code",
      "source": [
        "words = [w for w in text.split(' ') if w.strip() != '' or w == '\\n']\n",
        "print(\"Text is {} words long\".format(len(words)))"
      ],
      "metadata": {
        "colab": {
          "base_uri": "https://localhost:8080/"
        },
        "id": "n11W3CF46PVv",
        "outputId": "93557848-74a8-4ce9-81ef-0498054af606"
      },
      "execution_count": 6,
      "outputs": [
        {
          "output_type": "stream",
          "name": "stdout",
          "text": [
            "Text is 153260 words long\n"
          ]
        }
      ]
    },
    {
      "cell_type": "code",
      "source": [
        "print(text[:100])"
      ],
      "metadata": {
        "colab": {
          "base_uri": "https://localhost:8080/"
        },
        "id": "iSCe_BcP65bK",
        "outputId": "ee5e4cda-8eaf-41cc-a087-25814c69bee3"
      },
      "execution_count": 7,
      "outputs": [
        {
          "output_type": "stream",
          "name": "stdout",
          "text": [
            "  achilles' wrath, to greece the direful spring\n",
            "  of woes unnumber'd, heavenly goddess, sing!\n",
            "  that\n"
          ]
        }
      ]
    },
    {
      "cell_type": "code",
      "source": [
        "vocab = sorted(set(text))\n",
        "print ('There are {} unique characters'.format(len(vocab)))\n",
        "char2int = {c:i for i, c in enumerate(vocab)}\n",
        "int2char = np.array(vocab)\n",
        "print('Vector:\\n')\n",
        "for char,_ in zip(char2int, range(len(vocab))):\n",
        "    print(' {:4s}: {:3d},'.format(repr(char), char2int[char]))"
      ],
      "metadata": {
        "colab": {
          "base_uri": "https://localhost:8080/"
        },
        "id": "bJ1o-jkT76mc",
        "outputId": "05eee8d1-0c07-47b6-9eb8-1d0d8551120c"
      },
      "execution_count": 10,
      "outputs": [
        {
          "output_type": "stream",
          "name": "stdout",
          "text": [
            "There are 34 unique characters\n",
            "Vector:\n",
            "\n",
            " '\\n':   0,\n",
            " ' ' :   1,\n",
            " '!' :   2,\n",
            " \"'\" :   3,\n",
            " ',' :   4,\n",
            " '-' :   5,\n",
            " '.' :   6,\n",
            " '?' :   7,\n",
            " 'a' :   8,\n",
            " 'b' :   9,\n",
            " 'c' :  10,\n",
            " 'd' :  11,\n",
            " 'e' :  12,\n",
            " 'f' :  13,\n",
            " 'g' :  14,\n",
            " 'h' :  15,\n",
            " 'i' :  16,\n",
            " 'j' :  17,\n",
            " 'k' :  18,\n",
            " 'l' :  19,\n",
            " 'm' :  20,\n",
            " 'n' :  21,\n",
            " 'o' :  22,\n",
            " 'p' :  23,\n",
            " 'q' :  24,\n",
            " 'r' :  25,\n",
            " 's' :  26,\n",
            " 't' :  27,\n",
            " 'u' :  28,\n",
            " 'v' :  29,\n",
            " 'w' :  30,\n",
            " 'x' :  31,\n",
            " 'y' :  32,\n",
            " 'z' :  33,\n"
          ]
        }
      ]
    },
    {
      "cell_type": "code",
      "source": [
        "text_as_int = np.array([char2int[ch] for ch in text], dtype=np.int32)\n",
        "print ('{}\\n mapped to integers:\\n {}'.format(repr(text[:100]), text_as_int[:100]))"
      ],
      "metadata": {
        "colab": {
          "base_uri": "https://localhost:8080/"
        },
        "id": "LBnyKGFlK44l",
        "outputId": "0e03a4d6-ad58-43c9-c842-f5760521ec3b"
      },
      "execution_count": 14,
      "outputs": [
        {
          "output_type": "stream",
          "name": "stdout",
          "text": [
            "\"  achilles' wrath, to greece the direful spring\\n  of woes unnumber'd, heavenly goddess, sing!\\n  that\"\n",
            " mapped to integers:\n",
            " [ 1  1  8 10 15 16 19 19 12 26  3  1 30 25  8 27 15  4  1 27 22  1 14 25\n",
            " 12 12 10 12  1 27 15 12  1 11 16 25 12 13 28 19  1 26 23 25 16 21 14  0\n",
            "  1  1 22 13  1 30 22 12 26  1 28 21 21 28 20  9 12 25  3 11  4  1 15 12\n",
            "  8 29 12 21 19 32  1 14 22 11 11 12 26 26  4  1 26 16 21 14  2  0  1  1\n",
            " 27 15  8 27]\n"
          ]
        }
      ]
    },
    {
      "cell_type": "code",
      "source": [
        "tr_text = text_as_int[:704000]\n",
        "val_text = text_as_int[704000:]\n",
        "print(text_as_int.shape, tr_text.shape, val_text.shape)\n"
      ],
      "metadata": {
        "colab": {
          "base_uri": "https://localhost:8080/"
        },
        "id": "9GndizC3L37x",
        "outputId": "4e719cb8-12e9-45b1-90dd-56a6fcf7abee"
      },
      "execution_count": 25,
      "outputs": [
        {
          "output_type": "stream",
          "name": "stdout",
          "text": [
            "886809\n",
            "(886809,) (704000,) (182809,)\n",
            "(704000, 182809)\n"
          ]
        }
      ]
    },
    {
      "cell_type": "code",
      "source": [
        "batch_size = 64\n",
        "buffer_size = 10000\n",
        "embedding_dim = 256\n",
        "epochs = 50\n",
        "seq_length = 200\n",
        "examples_per_epoch = len(text)//seq_length\n",
        "#lr = 0.001 #will use default for Adam optimizer\n",
        "rnn_units = 1024\n",
        "vocab_size = len(vocab)"
      ],
      "metadata": {
        "id": "CaIzlVhIT0qM"
      },
      "execution_count": 26,
      "outputs": []
    },
    {
      "cell_type": "code",
      "source": [
        "tr_char_dataset = tf.data.Dataset.from_tensor_slices(tr_text)\n",
        "val_char_dataset = tf.data.Dataset.from_tensor_slices(val_text)\n",
        "tr_sequences = tr_char_dataset.batch(seq_length+1, drop_remainder=True)\n",
        "val_sequences = val_char_dataset.batch(seq_length+1, drop_remainder=True)\n",
        "def split_input_target(chunk):\n",
        "    input_text = chunk[:-1]\n",
        "    target_text = chunk[1:]\n",
        "    return input_text, target_text\n",
        "tr_dataset = tr_sequences.map(split_input_target).shuffle(buffer_size).batch(batch_size, drop_remainder=True)\n",
        "val_dataset = val_sequences.map(split_input_target).shuffle(buffer_size).batch(batch_size, drop_remainder=True)\n",
        "print(tr_dataset, val_dataset)"
      ],
      "metadata": {
        "colab": {
          "base_uri": "https://localhost:8080/"
        },
        "id": "Xf7t6zUaUPRg",
        "outputId": "b344fb75-9ee7-4cd9-ba10-541751d4c554"
      },
      "execution_count": 27,
      "outputs": [
        {
          "output_type": "stream",
          "name": "stdout",
          "text": [
            "<_BatchDataset element_spec=(TensorSpec(shape=(64, 200), dtype=tf.int32, name=None), TensorSpec(shape=(64, 200), dtype=tf.int32, name=None))> <_BatchDataset element_spec=(TensorSpec(shape=(64, 200), dtype=tf.int32, name=None), TensorSpec(shape=(64, 200), dtype=tf.int32, name=None))>\n"
          ]
        }
      ]
    },
    {
      "cell_type": "code",
      "source": [
        "def build_model(vocab_size, embedding_dim, rnn_units, batch_size):\n",
        "     model = tf.keras.Sequential([\n",
        "     tf.keras.layers.Embedding(vocab_size, embedding_dim,\n",
        "     batch_input_shape=[batch_size, None]),\n",
        "     tf.keras.layers.Dropout(0.2),\n",
        "     tf.keras.layers.LSTM(rnn_units,\n",
        "     return_sequences=True,\n",
        "     stateful=True,\n",
        "     recurrent_initializer='glorot_uniform'),\n",
        "     tf.keras.layers.Dropout(0.2),\n",
        "     tf.keras.layers.LSTM(rnn_units,\n",
        "     return_sequences=True,\n",
        "     stateful=True,\n",
        "     recurrent_initializer='glorot_uniform'),\n",
        "     tf.keras.layers.Dropout(0.2),\n",
        "     tf.keras.layers.Dense(vocab_size)\n",
        "     ])\n",
        "     return model\n",
        "\n",
        "model = build_model(\n",
        "    vocab_size = len(vocab),\n",
        "    embedding_dim=embedding_dim,\n",
        "    rnn_units=rnn_units,\n",
        "    batch_size=batch_size)"
      ],
      "metadata": {
        "id": "rvjON23qVgbp"
      },
      "execution_count": 28,
      "outputs": []
    },
    {
      "cell_type": "code",
      "source": [
        "model.summary()\n",
        "for input_example_batch, target_example_batch in tr_dataset.take(1):\n",
        "    example_batch_predictions = model(input_example_batch)\n",
        "    print(example_batch_predictions.shape)\n",
        "def loss(labels, logits):\n",
        "    return tf.keras.losses.sparse_categorical_crossentropy(labels,    logits, from_logits=True)\n",
        "example_batch_loss  = loss(target_example_batch, example_batch_predictions)\n",
        "print(\"Loss:      \", example_batch_loss.numpy().mean())"
      ],
      "metadata": {
        "colab": {
          "base_uri": "https://localhost:8080/"
        },
        "id": "04PD5shuWiwV",
        "outputId": "360f8441-6317-4f1a-8c29-b18bfb4c24b6"
      },
      "execution_count": 29,
      "outputs": [
        {
          "output_type": "stream",
          "name": "stdout",
          "text": [
            "Model: \"sequential\"\n",
            "_________________________________________________________________\n",
            " Layer (type)                Output Shape              Param #   \n",
            "=================================================================\n",
            " embedding (Embedding)       (64, None, 256)           8704      \n",
            "                                                                 \n",
            " dropout (Dropout)           (64, None, 256)           0         \n",
            "                                                                 \n",
            " lstm (LSTM)                 (64, None, 1024)          5246976   \n",
            "                                                                 \n",
            " dropout_1 (Dropout)         (64, None, 1024)          0         \n",
            "                                                                 \n",
            " lstm_1 (LSTM)               (64, None, 1024)          8392704   \n",
            "                                                                 \n",
            " dropout_2 (Dropout)         (64, None, 1024)          0         \n",
            "                                                                 \n",
            " dense (Dense)               (64, None, 34)            34850     \n",
            "                                                                 \n",
            "=================================================================\n",
            "Total params: 13,683,234\n",
            "Trainable params: 13,683,234\n",
            "Non-trainable params: 0\n",
            "_________________________________________________________________\n",
            "(64, 200, 34)\n",
            "Loss:       3.526997\n"
          ]
        }
      ]
    },
    {
      "cell_type": "code",
      "source": [
        "optimizer = tf.keras.optimizers.Adam()\n",
        "model.compile(optimizer=optimizer, loss=loss)\n",
        "patience = 10\n",
        "early_stop = tf.keras.callbacks.EarlyStopping(monitor='val_loss', patience=patience)"
      ],
      "metadata": {
        "id": "j-MDRdFLWq2T"
      },
      "execution_count": 30,
      "outputs": []
    },
    {
      "cell_type": "code",
      "source": [
        "checkpoint_dir = './checkpoints'+ datetime.datetime.now().strftime(\"_%Y.%m.%d-%H:%M:%S\")\n",
        "checkpoint_prefix = os.path.join(checkpoint_dir, \"ckpt_{epoch}\")\n",
        "checkpoint_callback=tf.keras.callbacks.ModelCheckpoint(\n",
        "    filepath=checkpoint_prefix,\n",
        "    save_weights_only=True)\n",
        "history = model.fit(tr_dataset, epochs=epochs, callbacks=[checkpoint_callback, early_stop] , validation_data=val_dataset)\n",
        "print (\"Training stopped as there was no improvement after {} epochs\".format(patience))"
      ],
      "metadata": {
        "colab": {
          "base_uri": "https://localhost:8080/"
        },
        "id": "wohF9MlWWwRj",
        "outputId": "90874661-aa6f-4fa1-c607-cc0674cf8299"
      },
      "execution_count": 31,
      "outputs": [
        {
          "output_type": "stream",
          "name": "stdout",
          "text": [
            "Epoch 1/50\n",
            "54/54 [==============================] - 27s 382ms/step - loss: 2.9997 - val_loss: 2.7491\n",
            "Epoch 2/50\n",
            "54/54 [==============================] - 22s 373ms/step - loss: 2.5464 - val_loss: 2.2999\n",
            "Epoch 3/50\n",
            "54/54 [==============================] - 22s 386ms/step - loss: 2.1712 - val_loss: 2.0360\n",
            "Epoch 4/50\n",
            "54/54 [==============================] - 22s 379ms/step - loss: 1.9423 - val_loss: 1.8350\n",
            "Epoch 5/50\n",
            "54/54 [==============================] - 22s 381ms/step - loss: 1.7625 - val_loss: 1.6897\n",
            "Epoch 6/50\n",
            "54/54 [==============================] - 22s 393ms/step - loss: 1.6193 - val_loss: 1.5664\n",
            "Epoch 7/50\n",
            "54/54 [==============================] - 22s 389ms/step - loss: 1.5110 - val_loss: 1.4804\n",
            "Epoch 8/50\n",
            "54/54 [==============================] - 23s 405ms/step - loss: 1.4275 - val_loss: 1.4140\n",
            "Epoch 9/50\n",
            "54/54 [==============================] - 23s 395ms/step - loss: 1.3622 - val_loss: 1.3657\n",
            "Epoch 10/50\n",
            "54/54 [==============================] - 23s 393ms/step - loss: 1.3091 - val_loss: 1.3326\n",
            "Epoch 11/50\n",
            "54/54 [==============================] - 22s 391ms/step - loss: 1.2683 - val_loss: 1.3064\n",
            "Epoch 12/50\n",
            "54/54 [==============================] - 22s 395ms/step - loss: 1.2319 - val_loss: 1.2840\n",
            "Epoch 13/50\n",
            "54/54 [==============================] - 22s 396ms/step - loss: 1.1994 - val_loss: 1.2684\n",
            "Epoch 14/50\n",
            "54/54 [==============================] - 22s 394ms/step - loss: 1.1700 - val_loss: 1.2580\n",
            "Epoch 15/50\n",
            "54/54 [==============================] - 23s 404ms/step - loss: 1.1410 - val_loss: 1.2479\n",
            "Epoch 16/50\n",
            "54/54 [==============================] - 22s 394ms/step - loss: 1.1121 - val_loss: 1.2411\n",
            "Epoch 17/50\n",
            "54/54 [==============================] - 22s 387ms/step - loss: 1.0843 - val_loss: 1.2420\n",
            "Epoch 18/50\n",
            "54/54 [==============================] - 23s 408ms/step - loss: 1.0565 - val_loss: 1.2380\n",
            "Epoch 19/50\n",
            "54/54 [==============================] - 23s 406ms/step - loss: 1.0286 - val_loss: 1.2412\n",
            "Epoch 20/50\n",
            "54/54 [==============================] - 22s 386ms/step - loss: 1.0005 - val_loss: 1.2424\n",
            "Epoch 21/50\n",
            "54/54 [==============================] - 23s 409ms/step - loss: 0.9699 - val_loss: 1.2532\n",
            "Epoch 22/50\n",
            "54/54 [==============================] - 23s 408ms/step - loss: 0.9393 - val_loss: 1.2591\n",
            "Epoch 23/50\n",
            "54/54 [==============================] - 22s 387ms/step - loss: 0.9095 - val_loss: 1.2761\n",
            "Epoch 24/50\n",
            "54/54 [==============================] - 23s 405ms/step - loss: 0.8774 - val_loss: 1.2886\n",
            "Epoch 25/50\n",
            "54/54 [==============================] - 22s 394ms/step - loss: 0.8461 - val_loss: 1.3031\n",
            "Epoch 26/50\n",
            "54/54 [==============================] - 23s 399ms/step - loss: 0.8144 - val_loss: 1.3301\n",
            "Epoch 27/50\n",
            "54/54 [==============================] - 23s 402ms/step - loss: 0.7813 - val_loss: 1.3408\n",
            "Epoch 28/50\n",
            "54/54 [==============================] - 22s 390ms/step - loss: 0.7498 - val_loss: 1.3665\n",
            "Training stopped as there was no improvement after 10 epochs\n"
          ]
        }
      ]
    },
    {
      "cell_type": "code",
      "source": [
        "model = build_model(vocab_size, embedding_dim, rnn_units, batch_size=1)\n",
        "model.load_weights(tf.train.latest_checkpoint(checkpoint_dir))\n",
        "model.build(tf.TensorShape([1, None]))\n",
        "def generate_text(model, start_string):\n",
        "\n",
        "    print('Generating with seed: \"' + start_string + '\"')\n",
        "\n",
        "    num_generate = 1000\n",
        "    input_eval = [char2int[s] for s in start_string]\n",
        "    input_eval = tf.expand_dims(input_eval, 0)\n",
        "    text_generated = []\n",
        "    temperature = 1.0\n",
        "    model.reset_states()\n",
        "    for i in range(num_generate):\n",
        "        predictions = model(input_eval)\n",
        "        predictions = tf.squeeze(predictions, 0)\n",
        "        predictions = predictions / temperature\n",
        "        predicted_id = tf.random.categorical(predictions,      num_samples=1)[-1,0].numpy()\n",
        "        input_eval = tf.expand_dims([predicted_id], 0)\n",
        "        text_generated.append(int2char[predicted_id])\n",
        "    return (start_string + ''.join(text_generated))\n",
        "print(generate_text(model, start_string=\"good boy\"))"
      ],
      "metadata": {
        "colab": {
          "base_uri": "https://localhost:8080/"
        },
        "id": "paO3neMaa2Rw",
        "outputId": "5ceef977-5f09-4846-dfec-32ac5cfd6fdc"
      },
      "execution_count": 33,
      "outputs": [
        {
          "output_type": "stream",
          "name": "stderr",
          "text": [
            "WARNING:tensorflow:Detecting that an object or model or tf.train.Checkpoint is being deleted with unrestored values. See the following logs for the specific values in question. To silence these warnings, use `status.expect_partial()`. See https://www.tensorflow.org/api_docs/python/tf/train/Checkpoint#restorefor details about the status object returned by the restore function.\n",
            "WARNING:tensorflow:Value in checkpoint could not be found in the restored object: (root).optimizer._iterations\n",
            "WARNING:tensorflow:Value in checkpoint could not be found in the restored object: (root).optimizer._learning_rate\n",
            "WARNING:tensorflow:Value in checkpoint could not be found in the restored object: (root).optimizer._variables.1\n",
            "WARNING:tensorflow:Value in checkpoint could not be found in the restored object: (root).optimizer._variables.2\n",
            "WARNING:tensorflow:Value in checkpoint could not be found in the restored object: (root).optimizer._variables.3\n",
            "WARNING:tensorflow:Value in checkpoint could not be found in the restored object: (root).optimizer._variables.4\n",
            "WARNING:tensorflow:Value in checkpoint could not be found in the restored object: (root).optimizer._variables.5\n",
            "WARNING:tensorflow:Value in checkpoint could not be found in the restored object: (root).optimizer._variables.6\n",
            "WARNING:tensorflow:Value in checkpoint could not be found in the restored object: (root).optimizer._variables.7\n",
            "WARNING:tensorflow:Value in checkpoint could not be found in the restored object: (root).optimizer._variables.8\n",
            "WARNING:tensorflow:Value in checkpoint could not be found in the restored object: (root).optimizer._variables.9\n",
            "WARNING:tensorflow:Value in checkpoint could not be found in the restored object: (root).optimizer._variables.10\n",
            "WARNING:tensorflow:Value in checkpoint could not be found in the restored object: (root).optimizer._variables.11\n",
            "WARNING:tensorflow:Value in checkpoint could not be found in the restored object: (root).optimizer._variables.12\n",
            "WARNING:tensorflow:Value in checkpoint could not be found in the restored object: (root).optimizer._variables.13\n",
            "WARNING:tensorflow:Value in checkpoint could not be found in the restored object: (root).optimizer._variables.14\n",
            "WARNING:tensorflow:Value in checkpoint could not be found in the restored object: (root).optimizer._variables.15\n",
            "WARNING:tensorflow:Value in checkpoint could not be found in the restored object: (root).optimizer._variables.16\n",
            "WARNING:tensorflow:Value in checkpoint could not be found in the restored object: (root).optimizer._variables.17\n",
            "WARNING:tensorflow:Value in checkpoint could not be found in the restored object: (root).optimizer._variables.18\n"
          ]
        },
        {
          "output_type": "stream",
          "name": "stdout",
          "text": [
            "Generating with seed: \"good boy\"\n",
            "good boyon,\n",
            "  partike the land,\n",
            "  and roll'd the gift his gulfy tounds along.\n",
            "  bold apapatas'orms, his monarch fall,\n",
            "  this day when deep review, and light with breast along.\n",
            "  to seize his son sho took he wings its way. \n",
            "  encouraged helen as imperial foe,\n",
            "  and trembling, turn'd the light!\n",
            "  and thus vain points the rice the warrior wide \n",
            "  his shield his coursers yet the chief of troy\n",
            "  the unrust  she rose \n",
            "  and mark'd their gods, and many a leader thrown,\n",
            "  inspired, with large that all the fields are won \n",
            "  the walls iachaea's bain for ships it shine \n",
            "  the nurse ettended with his sacred breast,\n",
            "  whom chief unnatived, the brave eugheston,\n",
            "  depart it fall, but born  this all the race \n",
            "  that, time such argive manning swords with fire.\n",
            "  from mars he lifts his brazen armour view,\n",
            "  and as the danger at the bow away.\n",
            "  rich cat of foes, and be no more and the rest assace \n",
            "   divine confesed! thy meges might survey,\n",
            "  and trembling smiles again the shining swain.\n",
            "  at and contention, and\n"
          ]
        }
      ]
    }
  ]
}